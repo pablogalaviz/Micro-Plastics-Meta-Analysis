{
 "cells": [
  {
   "cell_type": "code",
   "execution_count": 26,
   "metadata": {},
   "outputs": [],
   "source": [
    "from __future__ import print_function\n",
    "import pandas as pd \n",
    "import numpy as np \n",
    "from scipy import stats\n",
    "#import rpy2\n",
    "#import rpy2.robjects as robjects\n",
    "import matplotlib.pyplot as plt\n",
    "from scipy.optimize import curve_fit\n",
    "from scipy.stats import norm\n",
    "from IPython.display import display, HTML\n",
    "from ipywidgets import interact, interactive, fixed, interact_manual\n",
    "import ipywidgets as widgets\n",
    "\n",
    "#from rpy2.robjects import r, pandas2ri\n",
    "#from rpy2.robjects.packages import importr\n",
    "\n",
    "#pandas2ri.activate()\n",
    "\n",
    "\n",
    "#base = importr('base')\n",
    "#utils = importr('utils')\n",
    "#ggplot = importr('ggplot2')\n",
    "#metafor = importr('metafor')\n",
    "\n",
    "%matplotlib inline "
   ]
  },
  {
   "cell_type": "code",
   "execution_count": 27,
   "metadata": {},
   "outputs": [],
   "source": [
    "pd.set_option('display.max_columns', 119)"
   ]
  },
  {
   "cell_type": "code",
   "execution_count": 28,
   "metadata": {},
   "outputs": [],
   "source": [
    "df_S4=pd.read_excel(\"../data/Supplement_S3-4_v3.xlsx\",header=[0,1],sheet_name=\"S4\")"
   ]
  },
  {
   "cell_type": "code",
   "execution_count": 29,
   "metadata": {},
   "outputs": [],
   "source": [
    "def q_to_str(i):\n",
    "    return \"%d-%d\"%(i.left,i.right)\n",
    "\n",
    "def clean_str(s):\n",
    "    return s.replace(\"℃\",\"C\").replace(\"%\",\"\").replace(\" \",\"_\").replace(\"(\",\"_\").replace(\")\",\"\").replace(\"/\",\"_\").replace(\"__\",\"_\")\n"
   ]
  },
  {
   "cell_type": "code",
   "execution_count": 33,
   "metadata": {
    "scrolled": false
   },
   "outputs": [
    {
     "data": {
      "application/vnd.jupyter.widget-view+json": {
       "model_id": "4d5b45087d8246a2b85bcd3f2946e16e",
       "version_major": 2,
       "version_minor": 0
      },
      "text/plain": [
       "interactive(children=(Dropdown(description='set_name', options=('Yield (t /ha)', 'Plant height (cm)', 'Root we…"
      ]
     },
     "metadata": {},
     "output_type": "display_data"
    }
   ],
   "source": [
    "\n",
    "set_name=[\"Yield (t /ha)\",\n",
    "          \"Plant height (cm)\",\n",
    "          \"Root weight (g)\",\n",
    "          \"Soil water infiltration rate (mm/min)\",\n",
    "          \"Soil water evaporation capacity (mm)\",\n",
    "          \"SOM (g/kg)\",\n",
    "          \"Olsen-P (mg/kg)\"\n",
    "         ]\n",
    "\n",
    "\n",
    "def SaveMetaAnalysis(df_in,set_name):\n",
    "    \n",
    "    ds_Residual_film=df_in[\"Soil physical and chemical properties (before test)\"][\"Residual film (kg/ha)\"]\n",
    "    ds_Residual_film_class=df_in[\"Soil physical and chemical properties (before test)\"][\"Residual film class(kg/ha)\"]\n",
    "    ds_Crop_type=df_in[\"Soil physical and chemical properties (before test)\"][\"Crop type\"]\n",
    "    ds_qq,bins=pd.qcut(ds_Residual_film,3,retbins=True)\n",
    "    ds_qq.name=\"quantile\"\n",
    "    df=pd.merge(df_in[set_name].reset_index(),ds_Residual_film.reset_index(),left_index=True,right_index=True,on=\"index\")\n",
    "    df=pd.merge(df,ds_qq.reset_index(),left_index=True,right_index=True,on=\"index\")   \n",
    "    df=pd.merge(df,ds_Crop_type.reset_index(),left_index=True,right_index=True,on=\"index\")   \n",
    "    df=pd.merge(df,ds_Residual_film_class.reset_index(),left_index=True,right_index=True,on=\"index\")\n",
    "    \n",
    "    df[\"quantile\"]=df[\"quantile\"].map(q_to_str)\n",
    "    \n",
    "    df.rename(columns={x:clean_str(x) for x in df.columns},inplace=True)\n",
    "    df.rename(columns={\"index\":\"Reference\"},inplace=True)\n",
    "    set_name=clean_str(set_name)\n",
    "    \n",
    "    df[\"name\"]=set_name    \n",
    "    indx=df[\"CKmean\"].isna().map(lambda x:not x)\n",
    "    df=df[indx].copy()\n",
    "    display(df)\n",
    "    file_name=\"../data/raw/\"+set_name+\"_S4.csv\"\n",
    "    df.to_csv(file_name)\n",
    "    print(\"File Saved to\",file_name)\n",
    "    \n",
    "\n",
    "d=interact_manual(SaveMetaAnalysis,df_in=fixed(df_S4),set_name=set_name)"
   ]
  },
  {
   "cell_type": "code",
   "execution_count": 5,
   "metadata": {},
   "outputs": [],
   "source": [
    "df_S3=pd.read_excel(\"../data/Supplement_S3-4_v3.xlsx\",header=[0,1],sheet_name=\"S3\")"
   ]
  },
  {
   "cell_type": "code",
   "execution_count": 7,
   "metadata": {},
   "outputs": [
    {
     "data": {
      "application/vnd.jupyter.widget-view+json": {
       "model_id": "e98c43b33bf24d01bc05fc2397b8772f",
       "version_major": 2,
       "version_minor": 0
      },
      "text/plain": [
       "interactive(children=(Dropdown(description='set_name', options=('Yield (t/ha)', 'Temperature (℃)', 'Soil Water…"
      ]
     },
     "metadata": {},
     "output_type": "display_data"
    }
   ],
   "source": [
    "\n",
    "def film_thickness_to_str(i):\n",
    "    return \"%.3f-%.3f\"%(i.left,i.right)\n",
    "\n",
    "\n",
    "set_name=[\"Yield (t/ha)\",\n",
    "          \"Temperature (℃)\",\n",
    "          \"Soil Water (%)\",\n",
    "         ]\n",
    "\n",
    "\n",
    "def SaveMetaAnalysis2(df_in,set_name):\n",
    "        \n",
    "    df=df_in[set_name].reset_index().copy()\n",
    "    for dimension in [\"Crop classification\",\n",
    "                      \"Film type\",\n",
    "                      \"Film thickness(mm)\",\n",
    "                      \"Mulching cycle\",\n",
    "                      \"Mulching method\",\n",
    "                      \"Mulching ratio（%)\"]:\n",
    "        ds=df_in[\"Detailed Information of experiment management\"][dimension]\n",
    "        df=pd.merge(df,ds.reset_index(),left_index=True,right_index=True,on=\"index\")   \n",
    "\n",
    "        \n",
    "    ds_ft_q,bins=pd.qcut(df[\"Film thickness(mm)\"],3,retbins=True)\n",
    "    df[\"Film thickness class (mm)\"]=ds_ft_q.map(film_thickness_to_str)\n",
    "\n",
    "    ds_mr_q,bins=pd.qcut(df[\"Mulching ratio（%)\"],3,retbins=True,duplicates=\"drop\")\n",
    "    df[\"Mulching ratio class (%)\"]=ds_mr_q.map(q_to_str)\n",
    "        \n",
    "    df.rename(columns={x:clean_str(x) for x in df.columns},inplace=True)\n",
    "    df.rename(columns={\"index\":\"Reference\"},inplace=True)\n",
    "    set_name=clean_str(set_name)\n",
    "    \n",
    "    df[\"name\"]=set_name   \n",
    "    indx=df[\"CKmean\"].isna().map(lambda x:not x)\n",
    "    df=df[indx].copy()\n",
    "    display(df)\n",
    "    \n",
    "    file_name=\"../data/raw/\"+set_name+\"_S3.csv\"\n",
    "    df.to_csv(file_name)\n",
    "    print(\"File Saved to\",file_name)\n",
    "    \n",
    "\n",
    "d=interact_manual(SaveMetaAnalysis2,df_in=fixed(df_S3),set_name=set_name)"
   ]
  },
  {
   "cell_type": "code",
   "execution_count": 18,
   "metadata": {},
   "outputs": [
    {
     "data": {
      "text/plain": [
       "17"
      ]
     },
     "execution_count": 18,
     "metadata": {},
     "output_type": "execute_result"
    }
   ],
   "source": [
    "len(df_S4.reset_index()[\"index\"].map(lambda x: x if type(x)==type(1) else x[:-1]).unique())"
   ]
  },
  {
   "cell_type": "code",
   "execution_count": 20,
   "metadata": {},
   "outputs": [
    {
     "data": {
      "text/plain": [
       "(109, 120)"
      ]
     },
     "execution_count": 20,
     "metadata": {},
     "output_type": "execute_result"
    }
   ],
   "source": [
    "df_S4.shape"
   ]
  },
  {
   "cell_type": "code",
   "execution_count": 21,
   "metadata": {},
   "outputs": [
    {
     "data": {
      "text/plain": [
       "(587, 59)"
      ]
     },
     "execution_count": 21,
     "metadata": {},
     "output_type": "execute_result"
    }
   ],
   "source": [
    "df_S3.shape"
   ]
  },
  {
   "cell_type": "code",
   "execution_count": 24,
   "metadata": {},
   "outputs": [
    {
     "data": {
      "text/plain": [
       "93"
      ]
     },
     "execution_count": 24,
     "metadata": {},
     "output_type": "execute_result"
    }
   ],
   "source": [
    "len(df_S3.reset_index()[\"index\"].unique())"
   ]
  },
  {
   "cell_type": "code",
   "execution_count": null,
   "metadata": {},
   "outputs": [],
   "source": []
  }
 ],
 "metadata": {
  "kernelspec": {
   "display_name": "Python 3",
   "language": "python",
   "name": "python3"
  },
  "language_info": {
   "codemirror_mode": {
    "name": "ipython",
    "version": 3
   },
   "file_extension": ".py",
   "mimetype": "text/x-python",
   "name": "python",
   "nbconvert_exporter": "python",
   "pygments_lexer": "ipython3",
   "version": "3.6.7"
  }
 },
 "nbformat": 4,
 "nbformat_minor": 2
}
